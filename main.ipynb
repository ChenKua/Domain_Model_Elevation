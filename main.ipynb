{
 "cells": [
  {
   "cell_type": "code",
   "execution_count": 22,
   "metadata": {},
   "outputs": [
    {
     "name": "stderr",
     "output_type": "stream",
     "text": [
      "100%|██████████| 6/6 [00:00<00:00, 6017.65it/s]"
     ]
    },
    {
     "name": "stdout",
     "output_type": "stream",
     "text": [
      "G5\n",
      "smart_home/G5/human_eval\n",
      "smart_home/G5/result\n",
      "G6\n",
      "smart_home/G6/human_eval\n",
      "smart_home/G6/result\n",
      "G7\n",
      "smart_home/G7/human_eval\n",
      "smart_home/G7/result\n",
      "G8\n",
      "smart_home/G8/human_eval\n",
      "smart_home/G8/result\n",
      "G9\n",
      "smart_home/G9/human_eval\n",
      "smart_home/G9/result\n",
      "G10\n",
      "smart_home/G10/human_eval\n",
      "smart_home/G10/result\n"
     ]
    },
    {
     "name": "stderr",
     "output_type": "stream",
     "text": [
      "\n"
     ]
    }
   ],
   "source": [
    "import subprocess\n",
    "\n",
    "from tqdm import tqdm\n",
    "def run_another_python_script_with_args(script_path, arg1):\n",
    "    try:\n",
    "        subprocess.run([\"python\", script_path, arg1], check=True)\n",
    "    except subprocess.CalledProcessError as e:\n",
    "        print(f\"Error: {e}\")\n",
    "\n",
    "\n",
    "# Example: Running \"example_script_with_args.py\" with arguments \"value1\" and \"value2\"\n",
    "script_path = \"model_matching_v2.py\"\n",
    "from tqdm import tqdm\n",
    "\n",
    "import os\n",
    "import shutil\n",
    "\n",
    "# Specify the directory path\n",
    "directory_path = \"/smart_home/\"\n",
    "\n",
    "# Create the directory if it doesn't exist\n",
    "\n",
    "\n",
    "for i in tqdm(range(5,11)):\n",
    "    directory_path_root = \"smart_home/\"\n",
    "    g = 'G'+ str(i)\n",
    "    print(g)\n",
    "    # run_another_python_script_with_args(script_path, g)\n",
    "    directory_path = directory_path_root + g + \"/human_eval\"\n",
    "    print(directory_path)\n",
    "    if os.path.exists(directory_path+g):\n",
    "        shutil.rmtree(directory_path + g)\n",
    "        \n",
    "    if not os.path.exists(directory_path):\n",
    "        os.makedirs(directory_path)\n",
    "        file_path = directory_path + \"/ref_meta_cls.py\"\n",
    "        \n",
    "        with open(file_path, 'w') as new_file:\n",
    "           new_file.write(\"None\")\n",
    "        \n",
    "        file_path = directory_path + \"/ref_meta_rels.py\"\n",
    "        with open(file_path, 'w') as new_file:\n",
    "           new_file.write(\"None\")\n",
    "\n",
    "        file_path = directory_path + \"/stu_meta_cls.py\"\n",
    "        with open(file_path, 'w') as new_file:\n",
    "           new_file.write(\"None\")\n",
    "\n",
    "        file_paths = directory_path + \"/stu_meta_rels.py\"\n",
    "        with open(file_path, 'w') as new_file:\n",
    "           new_file.write(\"None\")\n",
    "\n",
    "    directory_path = directory_path_root + g + \"/result\"\n",
    "    print(directory_path)\n",
    "    if not os.path.exists(directory_path):\n",
    "        os.makedirs(directory_path)\n",
    "\n"
   ]
  }
 ],
 "metadata": {
  "kernelspec": {
   "display_name": "model_match",
   "language": "python",
   "name": "python3"
  },
  "language_info": {
   "codemirror_mode": {
    "name": "ipython",
    "version": 3
   },
   "file_extension": ".py",
   "mimetype": "text/x-python",
   "name": "python",
   "nbconvert_exporter": "python",
   "pygments_lexer": "ipython3",
   "version": "3.10.13"
  }
 },
 "nbformat": 4,
 "nbformat_minor": 2
}
