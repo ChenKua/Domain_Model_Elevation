{
 "cells": [
  {
   "cell_type": "code",
   "execution_count": 9,
   "metadata": {},
   "outputs": [
    {
     "name": "stderr",
     "output_type": "stream",
     "text": [
      "100%|██████████| 8/8 [00:00<00:00, 2005.64it/s]"
     ]
    },
    {
     "name": "stdout",
     "output_type": "stream",
     "text": [
      "G3\n",
      "smart_home/G3/human_eval\n",
      "G4\n",
      "smart_home/G4/human_eval\n",
      "G5\n",
      "smart_home/G5/human_eval\n",
      "G6\n",
      "smart_home/G6/human_eval\n",
      "G7\n",
      "smart_home/G7/human_eval\n",
      "G8\n",
      "smart_home/G8/human_eval\n",
      "G9\n",
      "smart_home/G9/human_eval\n",
      "G10\n",
      "smart_home/G10/human_eval\n"
     ]
    },
    {
     "name": "stderr",
     "output_type": "stream",
     "text": [
      "\n"
     ]
    }
   ],
   "source": [
    "import subprocess\n",
    "\n",
    "from tqdm import tqdm\n",
    "def run_another_python_script_with_args(script_path, arg1):\n",
    "    try:\n",
    "        subprocess.run([\"python\", script_path, arg1], check=True)\n",
    "    except subprocess.CalledProcessError as e:\n",
    "        print(f\"Error: {e}\")\n",
    "\n",
    "\n",
    "# Example: Running \"example_script_with_args.py\" with arguments \"value1\" and \"value2\"\n",
    "script_path = \"model_matching_v2.py\"\n",
    "from tqdm import tqdm\n",
    "\n",
    "import os\n",
    "\n",
    "# Specify the directory path\n",
    "directory_path = \"/smart_home/\"\n",
    "\n",
    "# Create the directory if it doesn't exist\n",
    "\n",
    "\n",
    "for i in tqdm(range(3,11)):\n",
    "    directory_path = \"smart_home/\"\n",
    "    g = 'G'+ str(i)\n",
    "    print(g)\n",
    "    # run_another_python_script_with_args(script_path, g)\n",
    "    directory_path = directory_path + g + \"/human_eval\"\n",
    "    print(directory_path)\n",
    "    if not os.path.exists(directory_path):\n",
    "        os.makedirs(directory_path)\n",
    "\n"
   ]
  },
  {
   "cell_type": "code",
   "execution_count": null,
   "metadata": {},
   "outputs": [],
   "source": []
  }
 ],
 "metadata": {
  "kernelspec": {
   "display_name": "model_match",
   "language": "python",
   "name": "python3"
  },
  "language_info": {
   "codemirror_mode": {
    "name": "ipython",
    "version": 3
   },
   "file_extension": ".py",
   "mimetype": "text/x-python",
   "name": "python",
   "nbconvert_exporter": "python",
   "pygments_lexer": "ipython3",
   "version": "3.10.13"
  }
 },
 "nbformat": 4,
 "nbformat_minor": 2
}
