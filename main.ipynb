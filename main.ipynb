{
 "cells": [
  {
   "cell_type": "code",
   "execution_count": 2,
   "metadata": {},
   "outputs": [],
   "source": [
    "import subprocess\n",
    "\n",
    "from tqdm import tqdm\n",
    "def run_another_python_script_with_args(script_path, arg1):\n",
    "    try:\n",
    "        subprocess.run([\"python\", script_path, arg1], check=True)\n",
    "    except subprocess.CalledProcessError as e:\n",
    "        print(f\"Error: {e}\")\n",
    "\n",
    "\n",
    "# Example: Running \"example_script_with_args.py\" with arguments \"value1\" and \"value2\"\n",
    "script_path = \"model_matching_v2.py\"\n",
    "from tqdm import tqdm\n",
    "\n",
    "import os\n",
    "import shutil"
   ]
  },
  {
   "cell_type": "code",
   "execution_count": 3,
   "metadata": {},
   "outputs": [
    {
     "name": "stderr",
     "output_type": "stream",
     "text": [
      "  0%|          | 0/11 [00:00<?, ?it/s]"
     ]
    },
    {
     "name": "stdout",
     "output_type": "stream",
     "text": [
      "0\n"
     ]
    },
    {
     "name": "stderr",
     "output_type": "stream",
     "text": [
      "  9%|▉         | 1/11 [00:02<00:25,  2.54s/it]"
     ]
    },
    {
     "name": "stdout",
     "output_type": "stream",
     "text": [
      "1\n"
     ]
    },
    {
     "name": "stderr",
     "output_type": "stream",
     "text": [
      " 18%|█▊        | 2/11 [01:47<09:24, 62.77s/it]"
     ]
    },
    {
     "name": "stdout",
     "output_type": "stream",
     "text": [
      "2\n"
     ]
    },
    {
     "name": "stderr",
     "output_type": "stream",
     "text": [
      " 27%|██▋       | 3/11 [03:26<10:35, 79.48s/it]"
     ]
    },
    {
     "name": "stdout",
     "output_type": "stream",
     "text": [
      "Error: Command '['python', 'model_matching_v2.py', '3']' returned non-zero exit status 1.\n",
      "3\n"
     ]
    },
    {
     "name": "stderr",
     "output_type": "stream",
     "text": [
      " 36%|███▋      | 4/11 [04:30<08:32, 73.28s/it]"
     ]
    },
    {
     "name": "stdout",
     "output_type": "stream",
     "text": [
      "4\n"
     ]
    },
    {
     "name": "stderr",
     "output_type": "stream",
     "text": [
      " 45%|████▌     | 5/11 [06:04<08:03, 80.64s/it]"
     ]
    },
    {
     "name": "stdout",
     "output_type": "stream",
     "text": [
      "5\n"
     ]
    },
    {
     "name": "stderr",
     "output_type": "stream",
     "text": [
      " 55%|█████▍    | 6/11 [07:25<06:43, 80.73s/it]"
     ]
    },
    {
     "name": "stdout",
     "output_type": "stream",
     "text": [
      "6\n"
     ]
    },
    {
     "name": "stderr",
     "output_type": "stream",
     "text": [
      " 64%|██████▎   | 7/11 [08:41<05:17, 79.39s/it]"
     ]
    },
    {
     "name": "stdout",
     "output_type": "stream",
     "text": [
      "7\n"
     ]
    },
    {
     "name": "stderr",
     "output_type": "stream",
     "text": [
      " 73%|███████▎  | 8/11 [09:58<03:55, 78.60s/it]"
     ]
    },
    {
     "name": "stdout",
     "output_type": "stream",
     "text": [
      "8\n"
     ]
    },
    {
     "name": "stderr",
     "output_type": "stream",
     "text": [
      " 82%|████████▏ | 9/11 [11:16<02:36, 78.49s/it]"
     ]
    },
    {
     "name": "stdout",
     "output_type": "stream",
     "text": [
      "9\n"
     ]
    },
    {
     "name": "stderr",
     "output_type": "stream",
     "text": [
      " 91%|█████████ | 10/11 [11:19<00:55, 55.10s/it]"
     ]
    },
    {
     "name": "stdout",
     "output_type": "stream",
     "text": [
      "10\n"
     ]
    },
    {
     "name": "stderr",
     "output_type": "stream",
     "text": [
      "100%|██████████| 11/11 [11:22<00:00, 62.04s/it]"
     ]
    },
    {
     "name": "stdout",
     "output_type": "stream",
     "text": [
      "Error: Command '['python', 'model_matching_v2.py', '11']' returned non-zero exit status 1.\n"
     ]
    },
    {
     "name": "stderr",
     "output_type": "stream",
     "text": [
      "\n"
     ]
    }
   ],
   "source": [
    "for i in tqdm(range(0,11)):\n",
    "    print(i)\n",
    "    run_another_python_script_with_args(script_path, str(i+1))\n",
    "\n"
   ]
  },
  {
   "cell_type": "code",
   "execution_count": 6,
   "metadata": {},
   "outputs": [
    {
     "name": "stderr",
     "output_type": "stream",
     "text": [
      "100%|██████████| 10/10 [00:00<00:00, 611.47it/s]"
     ]
    },
    {
     "name": "stdout",
     "output_type": "stream",
     "text": [
      "11\n",
      "smart_home/11/human_eval\n",
      "smart_home/11/result\n",
      "12\n",
      "smart_home/12/human_eval\n",
      "smart_home/12/result\n",
      "13\n",
      "smart_home/13/human_eval\n",
      "smart_home/13/result\n",
      "14\n",
      "smart_home/14/human_eval\n",
      "smart_home/14/result\n",
      "15\n",
      "smart_home/15/human_eval\n",
      "smart_home/15/result\n",
      "16\n",
      "smart_home/16/human_eval\n",
      "smart_home/16/result\n",
      "17\n",
      "smart_home/17/human_eval\n",
      "smart_home/17/result\n",
      "18\n",
      "smart_home/18/human_eval\n",
      "smart_home/18/result\n",
      "19\n",
      "smart_home/19/human_eval\n",
      "smart_home/19/result\n",
      "20\n",
      "smart_home/20/human_eval\n",
      "smart_home/20/result\n"
     ]
    },
    {
     "name": "stderr",
     "output_type": "stream",
     "text": [
      "\n"
     ]
    }
   ],
   "source": [
    "\n",
    "\n",
    "# Specify the directory path\n",
    "directory_path = \"/smart_home/\"\n",
    "\n",
    "# Create the directory if it doesn't exist\n",
    "\n",
    "\n",
    "for i in tqdm(range(11,21)):\n",
    "    directory_path_root = \"smart_home/\"\n",
    "    g = str(i)\n",
    "    print(g)\n",
    "    # run_another_python_script_with_args(script_path, g)\n",
    "    directory_path = directory_path_root + g + \"/human_eval\"\n",
    "    print(directory_path)\n",
    "   #  if os.path.exists(directory_path):\n",
    "   #      shutil.rmtree(directory_path )\n",
    "        \n",
    "    if not os.path.exists(directory_path):\n",
    "        os.makedirs(directory_path)\n",
    "        file_path = directory_path + \"/ref_meta_cls.py\"\n",
    "        \n",
    "        with open(file_path, 'w') as new_file:\n",
    "           new_file.write(\"None\")\n",
    "        \n",
    "        file_path = directory_path + \"/ref_meta_rels.py\"\n",
    "        with open(file_path, 'w') as new_file:\n",
    "           new_file.write(\"None\")\n",
    "\n",
    "        file_path = directory_path + \"/stu_meta_cls.py\"\n",
    "        with open(file_path, 'w') as new_file:\n",
    "           new_file.write(\"None\")\n",
    "\n",
    "        file_paths = directory_path + \"/stu_meta_rels.py\"\n",
    "        with open(file_path, 'w') as new_file:\n",
    "           new_file.write(\"None\")\n",
    "\n",
    "    directory_path = directory_path_root + g + \"/result\"\n",
    "    print(directory_path)\n",
    "    if not os.path.exists(directory_path):\n",
    "        os.makedirs(directory_path)\n",
    "\n"
   ]
  },
  {
   "cell_type": "code",
   "execution_count": 1,
   "metadata": {},
   "outputs": [
    {
     "name": "stderr",
     "output_type": "stream",
     "text": [
      "100%|██████████| 20/20 [00:00<00:00, 159.04it/s]"
     ]
    },
    {
     "name": "stdout",
     "output_type": "stream",
     "text": [
      "1  = = = = = = = = = = = = = = = = = = = =\n",
      "smart_home/1/result/algo_evaluation.txt\n",
      "2  = = = = = = = = = = = = = = = = = = = =\n",
      "smart_home/2/result/algo_evaluation.txt\n",
      "3  = = = = = = = = = = = = = = = = = = = =\n",
      "smart_home/3/result/algo_evaluation.txt\n",
      "4  = = = = = = = = = = = = = = = = = = = =\n",
      "smart_home/4/result/algo_evaluation.txt\n",
      "5  = = = = = = = = = = = = = = = = = = = =\n",
      "smart_home/5/result/algo_evaluation.txt\n",
      "6  = = = = = = = = = = = = = = = = = = = =\n",
      "smart_home/6/result/algo_evaluation.txt\n",
      "7  = = = = = = = = = = = = = = = = = = = =\n",
      "smart_home/7/result/algo_evaluation.txt\n",
      "8  = = = = = = = = = = = = = = = = = = = =\n",
      "smart_home/8/result/algo_evaluation.txt\n",
      "9  = = = = = = = = = = = = = = = = = = = =\n",
      "smart_home/9/result/algo_evaluation.txt\n",
      "10  = = = = = = = = = = = = = = = = = = = =\n",
      "smart_home/10/result/algo_evaluation.txt\n",
      "11  = = = = = = = = = = = = = = = = = = = =\n",
      "smart_home/11/result/algo_evaluation.txt\n",
      "12  = = = = = = = = = = = = = = = = = = = =\n",
      "smart_home/12/result/algo_evaluation.txt\n",
      "13  = = = = = = = = = = = = = = = = = = = =\n",
      "smart_home/13/result/algo_evaluation.txt\n",
      "14  = = = = = = = = = = = = = = = = = = = =\n",
      "smart_home/14/result/algo_evaluation.txt\n",
      "15  = = = = = = = = = = = = = = = = = = = =\n",
      "smart_home/15/result/algo_evaluation.txt\n",
      "16  = = = = = = = = = = = = = = = = = = = =\n",
      "smart_home/16/result/algo_evaluation.txt\n",
      "17  = = = = = = = = = = = = = = = = = = = =\n",
      "smart_home/17/result/algo_evaluation.txt\n",
      "18  = = = = = = = = = = = = = = = = = = = =\n",
      "smart_home/18/result/algo_evaluation.txt\n",
      "19  = = = = = = = = = = = = = = = = = = = =\n",
      "smart_home/19/result/algo_evaluation.txt\n",
      "20  = = = = = = = = = = = = = = = = = = = =\n",
      "smart_home/20/result/algo_evaluation.txt\n"
     ]
    },
    {
     "name": "stderr",
     "output_type": "stream",
     "text": [
      "\n"
     ]
    }
   ],
   "source": [
    "import subprocess\n",
    "\n",
    "from tqdm import tqdm\n",
    "def run_another_python_script_with_args(script_path, arg1):\n",
    "    try:\n",
    "        subprocess.run([\"python\", script_path, arg1], check=True)\n",
    "    except subprocess.CalledProcessError as e:\n",
    "        print(f\"Error: {e}\")\n",
    "\n",
    "\n",
    "# Example: Running \"example_script_with_args.py\" with arguments \"value1\" and \"value2\"\n",
    "script_path = \"model_matching_v2.py\"\n",
    "from tqdm import tqdm\n",
    "\n",
    "import os\n",
    "import shutil\n",
    "import json\n",
    "\n",
    "# Specify the directory path\n",
    "directory_path = \"/smart_home/\"\n",
    "\n",
    "# Create the directory if it doesn't exist\n",
    "from pprint import pprint\n",
    "\n",
    "result = []\n",
    "for i in tqdm(range(1,21)):\n",
    "    directory_path_root = \"smart_home/\"\n",
    "    g = str(i)\n",
    "    print(g, \" =\"*20)\n",
    "    # run_another_python_script_with_args(script_path, g)\n",
    "    directory_path = directory_path_root + g + \"/human_eval\"\n",
    "        \n",
    "    directory_path = directory_path_root + g + \"/result/algo_evaluation.txt\"\n",
    "    print(directory_path)\n",
    "    \n",
    "    with open(directory_path, 'r') as file:\n",
    "    # Read the entire file content\n",
    "        file_content = json.load(file)\n",
    "        result.append(file_content)\n",
    "        # pprint(file_content)\n"
   ]
  },
  {
   "cell_type": "code",
   "execution_count": 2,
   "metadata": {},
   "outputs": [],
   "source": [
    "import pandas as pd\n"
   ]
  },
  {
   "cell_type": "code",
   "execution_count": 3,
   "metadata": {},
   "outputs": [],
   "source": [
    "rows = [[] for i in range(9)]\n",
    "\n",
    "for d in result:\n",
    "\n",
    "    rows[0].append(d[\"class\"][\"precision\"])\n",
    "    rows[1].append(d[\"class\"][\"recall\"])\n",
    "    rows[2].append(d[\"class\"][\"f1\"])\n",
    "    \n",
    "    rows[3].append(d[\"attribute\"][\"precision\"])\n",
    "    rows[4].append(d[\"attribute\"][\"recall\"])\n",
    "    rows[5].append(d[\"attribute\"][\"f1\"])\n",
    "\n",
    "    rows[6].append(d[\"relationship\"][\"precision\"])\n",
    "    rows[7].append(d[\"relationship\"][\"recall\"])\n",
    "    rows[8].append(d[\"relationship\"][\"f1\"])\n",
    "\n",
    "col = [i + 1 for i in range(len(result))]\n",
    "index = [\"class_pre\"]"
   ]
  },
  {
   "cell_type": "code",
   "execution_count": 4,
   "metadata": {},
   "outputs": [
    {
     "data": {
      "text/plain": [
       "['class_precision',\n",
       " 'class_recall',\n",
       " 'class_f1',\n",
       " 'attribute_precision',\n",
       " 'attribute_recall',\n",
       " 'attribute_f1',\n",
       " 'relationship_precision',\n",
       " 'relationship_recall',\n",
       " 'relationship_f1']"
      ]
     },
     "execution_count": 4,
     "metadata": {},
     "output_type": "execute_result"
    }
   ],
   "source": [
    "index = []\n",
    "for key in result[0]:\n",
    "    for key_2 in result[0][key]:\n",
    "        name = key+\"_\"+key_2\n",
    "        index.append(name)\n",
    "index"
   ]
  },
  {
   "cell_type": "code",
   "execution_count": 5,
   "metadata": {},
   "outputs": [],
   "source": [
    "df = pd.DataFrame(rows, columns=col, index=index)"
   ]
  },
  {
   "cell_type": "code",
   "execution_count": 6,
   "metadata": {},
   "outputs": [
    {
     "data": {
      "text/html": [
       "<div>\n",
       "<style scoped>\n",
       "    .dataframe tbody tr th:only-of-type {\n",
       "        vertical-align: middle;\n",
       "    }\n",
       "\n",
       "    .dataframe tbody tr th {\n",
       "        vertical-align: top;\n",
       "    }\n",
       "\n",
       "    .dataframe thead th {\n",
       "        text-align: right;\n",
       "    }\n",
       "</style>\n",
       "<table border=\"1\" class=\"dataframe\">\n",
       "  <thead>\n",
       "    <tr style=\"text-align: right;\">\n",
       "      <th></th>\n",
       "      <th>1</th>\n",
       "      <th>2</th>\n",
       "      <th>3</th>\n",
       "      <th>4</th>\n",
       "      <th>5</th>\n",
       "      <th>6</th>\n",
       "      <th>7</th>\n",
       "      <th>8</th>\n",
       "      <th>9</th>\n",
       "      <th>10</th>\n",
       "      <th>...</th>\n",
       "      <th>12</th>\n",
       "      <th>13</th>\n",
       "      <th>14</th>\n",
       "      <th>15</th>\n",
       "      <th>16</th>\n",
       "      <th>17</th>\n",
       "      <th>18</th>\n",
       "      <th>19</th>\n",
       "      <th>20</th>\n",
       "      <th>average</th>\n",
       "    </tr>\n",
       "  </thead>\n",
       "  <tbody>\n",
       "    <tr>\n",
       "      <th>class_precision</th>\n",
       "      <td>0.681818</td>\n",
       "      <td>0.900000</td>\n",
       "      <td>0.764706</td>\n",
       "      <td>1.000000</td>\n",
       "      <td>0.666667</td>\n",
       "      <td>0.809524</td>\n",
       "      <td>0.652174</td>\n",
       "      <td>0.894737</td>\n",
       "      <td>0.750000</td>\n",
       "      <td>0.904762</td>\n",
       "      <td>...</td>\n",
       "      <td>0.764706</td>\n",
       "      <td>0.608696</td>\n",
       "      <td>0.666667</td>\n",
       "      <td>0.750000</td>\n",
       "      <td>0.571429</td>\n",
       "      <td>0.761905</td>\n",
       "      <td>0.764706</td>\n",
       "      <td>0.681818</td>\n",
       "      <td>0.684211</td>\n",
       "      <td>0.742498</td>\n",
       "    </tr>\n",
       "    <tr>\n",
       "      <th>class_recall</th>\n",
       "      <td>1.000000</td>\n",
       "      <td>1.000000</td>\n",
       "      <td>0.866667</td>\n",
       "      <td>1.000000</td>\n",
       "      <td>0.888889</td>\n",
       "      <td>0.944444</td>\n",
       "      <td>0.937500</td>\n",
       "      <td>1.000000</td>\n",
       "      <td>1.000000</td>\n",
       "      <td>1.000000</td>\n",
       "      <td>...</td>\n",
       "      <td>0.928571</td>\n",
       "      <td>0.875000</td>\n",
       "      <td>0.857143</td>\n",
       "      <td>0.833333</td>\n",
       "      <td>0.857143</td>\n",
       "      <td>0.941176</td>\n",
       "      <td>1.000000</td>\n",
       "      <td>0.882353</td>\n",
       "      <td>0.928571</td>\n",
       "      <td>0.933193</td>\n",
       "    </tr>\n",
       "    <tr>\n",
       "      <th>class_f1</th>\n",
       "      <td>0.810811</td>\n",
       "      <td>0.947368</td>\n",
       "      <td>0.812500</td>\n",
       "      <td>1.000000</td>\n",
       "      <td>0.761905</td>\n",
       "      <td>0.871795</td>\n",
       "      <td>0.769231</td>\n",
       "      <td>0.944444</td>\n",
       "      <td>0.857143</td>\n",
       "      <td>0.950000</td>\n",
       "      <td>...</td>\n",
       "      <td>0.838710</td>\n",
       "      <td>0.717949</td>\n",
       "      <td>0.750000</td>\n",
       "      <td>0.789474</td>\n",
       "      <td>0.685714</td>\n",
       "      <td>0.842105</td>\n",
       "      <td>0.866667</td>\n",
       "      <td>0.769231</td>\n",
       "      <td>0.787879</td>\n",
       "      <td>0.823940</td>\n",
       "    </tr>\n",
       "    <tr>\n",
       "      <th>attribute_precision</th>\n",
       "      <td>0.714286</td>\n",
       "      <td>0.818182</td>\n",
       "      <td>0.833333</td>\n",
       "      <td>0.681818</td>\n",
       "      <td>0.740000</td>\n",
       "      <td>0.760000</td>\n",
       "      <td>0.750000</td>\n",
       "      <td>0.714286</td>\n",
       "      <td>0.900000</td>\n",
       "      <td>0.875000</td>\n",
       "      <td>...</td>\n",
       "      <td>0.900000</td>\n",
       "      <td>0.634615</td>\n",
       "      <td>0.470588</td>\n",
       "      <td>0.552632</td>\n",
       "      <td>0.437500</td>\n",
       "      <td>0.891304</td>\n",
       "      <td>0.687500</td>\n",
       "      <td>0.666667</td>\n",
       "      <td>0.789474</td>\n",
       "      <td>0.727398</td>\n",
       "    </tr>\n",
       "    <tr>\n",
       "      <th>attribute_recall</th>\n",
       "      <td>0.555556</td>\n",
       "      <td>0.818182</td>\n",
       "      <td>0.789474</td>\n",
       "      <td>0.750000</td>\n",
       "      <td>0.740000</td>\n",
       "      <td>0.703704</td>\n",
       "      <td>0.666667</td>\n",
       "      <td>0.750000</td>\n",
       "      <td>0.843750</td>\n",
       "      <td>0.823529</td>\n",
       "      <td>...</td>\n",
       "      <td>0.947368</td>\n",
       "      <td>0.970588</td>\n",
       "      <td>0.800000</td>\n",
       "      <td>0.700000</td>\n",
       "      <td>0.875000</td>\n",
       "      <td>0.891304</td>\n",
       "      <td>0.846154</td>\n",
       "      <td>0.750000</td>\n",
       "      <td>1.000000</td>\n",
       "      <td>0.786064</td>\n",
       "    </tr>\n",
       "    <tr>\n",
       "      <th>attribute_f1</th>\n",
       "      <td>0.625000</td>\n",
       "      <td>0.818182</td>\n",
       "      <td>0.810811</td>\n",
       "      <td>0.714286</td>\n",
       "      <td>0.740000</td>\n",
       "      <td>0.730769</td>\n",
       "      <td>0.705882</td>\n",
       "      <td>0.731707</td>\n",
       "      <td>0.870968</td>\n",
       "      <td>0.848485</td>\n",
       "      <td>...</td>\n",
       "      <td>0.923077</td>\n",
       "      <td>0.767442</td>\n",
       "      <td>0.592593</td>\n",
       "      <td>0.617647</td>\n",
       "      <td>0.583333</td>\n",
       "      <td>0.891304</td>\n",
       "      <td>0.758621</td>\n",
       "      <td>0.705882</td>\n",
       "      <td>0.882353</td>\n",
       "      <td>0.745605</td>\n",
       "    </tr>\n",
       "    <tr>\n",
       "      <th>relationship_precision</th>\n",
       "      <td>0.928571</td>\n",
       "      <td>1.000000</td>\n",
       "      <td>0.846154</td>\n",
       "      <td>1.000000</td>\n",
       "      <td>0.928571</td>\n",
       "      <td>0.875000</td>\n",
       "      <td>0.888889</td>\n",
       "      <td>1.000000</td>\n",
       "      <td>0.636364</td>\n",
       "      <td>0.833333</td>\n",
       "      <td>...</td>\n",
       "      <td>1.000000</td>\n",
       "      <td>1.000000</td>\n",
       "      <td>0.750000</td>\n",
       "      <td>1.000000</td>\n",
       "      <td>0.555556</td>\n",
       "      <td>0.833333</td>\n",
       "      <td>0.583333</td>\n",
       "      <td>0.785714</td>\n",
       "      <td>1.000000</td>\n",
       "      <td>0.855574</td>\n",
       "    </tr>\n",
       "    <tr>\n",
       "      <th>relationship_recall</th>\n",
       "      <td>0.764706</td>\n",
       "      <td>1.000000</td>\n",
       "      <td>0.687500</td>\n",
       "      <td>0.846154</td>\n",
       "      <td>0.812500</td>\n",
       "      <td>0.636364</td>\n",
       "      <td>0.727273</td>\n",
       "      <td>1.000000</td>\n",
       "      <td>0.875000</td>\n",
       "      <td>1.000000</td>\n",
       "      <td>...</td>\n",
       "      <td>0.777778</td>\n",
       "      <td>1.000000</td>\n",
       "      <td>0.666667</td>\n",
       "      <td>0.500000</td>\n",
       "      <td>0.384615</td>\n",
       "      <td>0.769231</td>\n",
       "      <td>0.875000</td>\n",
       "      <td>0.687500</td>\n",
       "      <td>0.846154</td>\n",
       "      <td>0.762822</td>\n",
       "    </tr>\n",
       "    <tr>\n",
       "      <th>relationship_f1</th>\n",
       "      <td>0.838710</td>\n",
       "      <td>1.000000</td>\n",
       "      <td>0.758621</td>\n",
       "      <td>0.916667</td>\n",
       "      <td>0.866667</td>\n",
       "      <td>0.736842</td>\n",
       "      <td>0.800000</td>\n",
       "      <td>1.000000</td>\n",
       "      <td>0.736842</td>\n",
       "      <td>0.909091</td>\n",
       "      <td>...</td>\n",
       "      <td>0.875000</td>\n",
       "      <td>1.000000</td>\n",
       "      <td>0.705882</td>\n",
       "      <td>0.666667</td>\n",
       "      <td>0.454545</td>\n",
       "      <td>0.800000</td>\n",
       "      <td>0.700000</td>\n",
       "      <td>0.733333</td>\n",
       "      <td>0.916667</td>\n",
       "      <td>0.795777</td>\n",
       "    </tr>\n",
       "  </tbody>\n",
       "</table>\n",
       "<p>9 rows × 21 columns</p>\n",
       "</div>"
      ],
      "text/plain": [
       "                               1         2         3         4         5  \\\n",
       "class_precision         0.681818  0.900000  0.764706  1.000000  0.666667   \n",
       "class_recall            1.000000  1.000000  0.866667  1.000000  0.888889   \n",
       "class_f1                0.810811  0.947368  0.812500  1.000000  0.761905   \n",
       "attribute_precision     0.714286  0.818182  0.833333  0.681818  0.740000   \n",
       "attribute_recall        0.555556  0.818182  0.789474  0.750000  0.740000   \n",
       "attribute_f1            0.625000  0.818182  0.810811  0.714286  0.740000   \n",
       "relationship_precision  0.928571  1.000000  0.846154  1.000000  0.928571   \n",
       "relationship_recall     0.764706  1.000000  0.687500  0.846154  0.812500   \n",
       "relationship_f1         0.838710  1.000000  0.758621  0.916667  0.866667   \n",
       "\n",
       "                               6         7         8         9        10  ...  \\\n",
       "class_precision         0.809524  0.652174  0.894737  0.750000  0.904762  ...   \n",
       "class_recall            0.944444  0.937500  1.000000  1.000000  1.000000  ...   \n",
       "class_f1                0.871795  0.769231  0.944444  0.857143  0.950000  ...   \n",
       "attribute_precision     0.760000  0.750000  0.714286  0.900000  0.875000  ...   \n",
       "attribute_recall        0.703704  0.666667  0.750000  0.843750  0.823529  ...   \n",
       "attribute_f1            0.730769  0.705882  0.731707  0.870968  0.848485  ...   \n",
       "relationship_precision  0.875000  0.888889  1.000000  0.636364  0.833333  ...   \n",
       "relationship_recall     0.636364  0.727273  1.000000  0.875000  1.000000  ...   \n",
       "relationship_f1         0.736842  0.800000  1.000000  0.736842  0.909091  ...   \n",
       "\n",
       "                              12        13        14        15        16  \\\n",
       "class_precision         0.764706  0.608696  0.666667  0.750000  0.571429   \n",
       "class_recall            0.928571  0.875000  0.857143  0.833333  0.857143   \n",
       "class_f1                0.838710  0.717949  0.750000  0.789474  0.685714   \n",
       "attribute_precision     0.900000  0.634615  0.470588  0.552632  0.437500   \n",
       "attribute_recall        0.947368  0.970588  0.800000  0.700000  0.875000   \n",
       "attribute_f1            0.923077  0.767442  0.592593  0.617647  0.583333   \n",
       "relationship_precision  1.000000  1.000000  0.750000  1.000000  0.555556   \n",
       "relationship_recall     0.777778  1.000000  0.666667  0.500000  0.384615   \n",
       "relationship_f1         0.875000  1.000000  0.705882  0.666667  0.454545   \n",
       "\n",
       "                              17        18        19        20   average  \n",
       "class_precision         0.761905  0.764706  0.681818  0.684211  0.742498  \n",
       "class_recall            0.941176  1.000000  0.882353  0.928571  0.933193  \n",
       "class_f1                0.842105  0.866667  0.769231  0.787879  0.823940  \n",
       "attribute_precision     0.891304  0.687500  0.666667  0.789474  0.727398  \n",
       "attribute_recall        0.891304  0.846154  0.750000  1.000000  0.786064  \n",
       "attribute_f1            0.891304  0.758621  0.705882  0.882353  0.745605  \n",
       "relationship_precision  0.833333  0.583333  0.785714  1.000000  0.855574  \n",
       "relationship_recall     0.769231  0.875000  0.687500  0.846154  0.762822  \n",
       "relationship_f1         0.800000  0.700000  0.733333  0.916667  0.795777  \n",
       "\n",
       "[9 rows x 21 columns]"
      ]
     },
     "execution_count": 6,
     "metadata": {},
     "output_type": "execute_result"
    }
   ],
   "source": [
    "df\n",
    "column_averages = df.mean()\n",
    "df['average'] = df.mean(numeric_only=True, axis=1)\n",
    "\n",
    "df"
   ]
  }
 ],
 "metadata": {
  "kernelspec": {
   "display_name": "model_match",
   "language": "python",
   "name": "python3"
  },
  "language_info": {
   "codemirror_mode": {
    "name": "ipython",
    "version": 3
   },
   "file_extension": ".py",
   "mimetype": "text/x-python",
   "name": "python",
   "nbconvert_exporter": "python",
   "pygments_lexer": "ipython3",
   "version": "3.10.13"
  }
 },
 "nbformat": 4,
 "nbformat_minor": 2
}
